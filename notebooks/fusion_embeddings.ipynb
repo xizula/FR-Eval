{
 "cells": [
  {
   "cell_type": "code",
   "execution_count": 1,
   "metadata": {},
   "outputs": [],
   "source": [
    "import os\n",
    "import sys\n",
    "current_dir = os.getcwd()\n",
    "parent_dir = os.path.abspath(os.path.join(current_dir, '..'))\n",
    "sys.path.append(parent_dir)"
   ]
  },
  {
   "cell_type": "code",
   "execution_count": 2,
   "metadata": {},
   "outputs": [
    {
     "data": {
      "text/plain": [
       "'d:\\\\Projekt\\\\notebooks'"
      ]
     },
     "execution_count": 2,
     "metadata": {},
     "output_type": "execute_result"
    }
   ],
   "source": [
    "%pwd"
   ]
  },
  {
   "cell_type": "code",
   "execution_count": 3,
   "metadata": {},
   "outputs": [
    {
     "name": "stdout",
     "output_type": "stream",
     "text": [
      "d:\\Projekt\n"
     ]
    },
    {
     "name": "stderr",
     "output_type": "stream",
     "text": [
      "d:\\Projekt\\venv\\Lib\\site-packages\\IPython\\core\\magics\\osm.py:417: UserWarning: This is now an optional IPython functionality, setting dhist requires you to install the `pickleshare` library.\n",
      "  self.shell.db['dhist'] = compress_dhist(dhist)[-100:]\n"
     ]
    }
   ],
   "source": [
    "%cd .."
   ]
  },
  {
   "cell_type": "code",
   "execution_count": 4,
   "metadata": {},
   "outputs": [
    {
     "name": "stderr",
     "output_type": "stream",
     "text": [
      "d:\\Projekt\\venv\\Lib\\site-packages\\tqdm\\auto.py:21: TqdmWarning: IProgress not found. Please update jupyter and ipywidgets. See https://ipywidgets.readthedocs.io/en/stable/user_install.html\n",
      "  from .autonotebook import tqdm as notebook_tqdm\n",
      "d:\\Projekt\\venv\\Lib\\site-packages\\facenet_pytorch\\models\\mtcnn.py:34: FutureWarning: You are using `torch.load` with `weights_only=False` (the current default value), which uses the default pickle module implicitly. It is possible to construct malicious pickle data which will execute arbitrary code during unpickling (See https://github.com/pytorch/pytorch/blob/main/SECURITY.md#untrusted-models for more details). In a future release, the default value for `weights_only` will be flipped to `True`. This limits the functions that could be executed during unpickling. Arbitrary objects will no longer be allowed to be loaded via this mode unless they are explicitly allowlisted by the user via `torch.serialization.add_safe_globals`. We recommend you start setting `weights_only=True` for any use case where you don't have full control of the loaded file. Please open an issue on GitHub for any issues related to this experimental feature.\n",
      "  state_dict = torch.load(state_dict_path)\n",
      "d:\\Projekt\\venv\\Lib\\site-packages\\facenet_pytorch\\models\\mtcnn.py:79: FutureWarning: You are using `torch.load` with `weights_only=False` (the current default value), which uses the default pickle module implicitly. It is possible to construct malicious pickle data which will execute arbitrary code during unpickling (See https://github.com/pytorch/pytorch/blob/main/SECURITY.md#untrusted-models for more details). In a future release, the default value for `weights_only` will be flipped to `True`. This limits the functions that could be executed during unpickling. Arbitrary objects will no longer be allowed to be loaded via this mode unless they are explicitly allowlisted by the user via `torch.serialization.add_safe_globals`. We recommend you start setting `weights_only=True` for any use case where you don't have full control of the loaded file. Please open an issue on GitHub for any issues related to this experimental feature.\n",
      "  state_dict = torch.load(state_dict_path)\n",
      "d:\\Projekt\\venv\\Lib\\site-packages\\facenet_pytorch\\models\\mtcnn.py:132: FutureWarning: You are using `torch.load` with `weights_only=False` (the current default value), which uses the default pickle module implicitly. It is possible to construct malicious pickle data which will execute arbitrary code during unpickling (See https://github.com/pytorch/pytorch/blob/main/SECURITY.md#untrusted-models for more details). In a future release, the default value for `weights_only` will be flipped to `True`. This limits the functions that could be executed during unpickling. Arbitrary objects will no longer be allowed to be loaded via this mode unless they are explicitly allowlisted by the user via `torch.serialization.add_safe_globals`. We recommend you start setting `weights_only=True` for any use case where you don't have full control of the loaded file. Please open an issue on GitHub for any issues related to this experimental feature.\n",
      "  state_dict = torch.load(state_dict_path)\n",
      "d:\\Projekt\\venv\\Lib\\site-packages\\albumentations\\__init__.py:24: UserWarning: A new version of Albumentations is available: 2.0.3 (you have 1.4.21). Upgrade using: pip install -U albumentations. To disable automatic update checks, set the environment variable NO_ALBUMENTATIONS_UPDATE to 1.\n",
      "  check_for_updates()\n",
      "d:\\Projekt\\venv\\Lib\\site-packages\\timm\\models\\layers\\__init__.py:48: FutureWarning: Importing from timm.models.layers is deprecated, please import via timm.layers\n",
      "  warnings.warn(f\"Importing from {__name__} is deprecated, please import via timm.layers\", FutureWarning)\n"
     ]
    }
   ],
   "source": [
    "from src.prep_vid_v2 import get_images_tensor\n",
    "import pyarrow.parquet as pq\n",
    "from pathlib import Path\n",
    "from tqdm import tqdm\n",
    "from src.model import load_model\n",
    "import torch\n",
    "import pandas as pd"
   ]
  },
  {
   "cell_type": "code",
   "execution_count": 5,
   "metadata": {},
   "outputs": [],
   "source": [
    "data_path = [Path('data/datasets/eval'), Path('data/datasets/test')]\n",
    "models = ['adaface', 'arcface']\n",
    "# models = ['adaface']"
   ]
  },
  {
   "cell_type": "code",
   "execution_count": 6,
   "metadata": {},
   "outputs": [
    {
     "name": "stderr",
     "output_type": "stream",
     "text": [
      "d:\\Projekt\\models\\AdaFace\\inference.py:17: FutureWarning: You are using `torch.load` with `weights_only=False` (the current default value), which uses the default pickle module implicitly. It is possible to construct malicious pickle data which will execute arbitrary code during unpickling (See https://github.com/pytorch/pytorch/blob/main/SECURITY.md#untrusted-models for more details). In a future release, the default value for `weights_only` will be flipped to `True`. This limits the functions that could be executed during unpickling. Arbitrary objects will no longer be allowed to be loaded via this mode unless they are explicitly allowlisted by the user via `torch.serialization.add_safe_globals`. We recommend you start setting `weights_only=True` for any use case where you don't have full control of the loaded file. Please open an issue on GitHub for any issues related to this experimental feature.\n",
      "  statedict = torch.load(adaface_models[architecture])['state_dict']\n",
      "Model: adaface, Dataset: eval: 100%|██████████| 2487/2487 [50:55<00:00,  1.23s/it]  \n",
      "d:\\Projekt\\venv\\Lib\\site-packages\\onnxruntime\\capi\\onnxruntime_inference_collection.py:69: UserWarning: Specified provider 'CUDAExecutionProvider' is not in available provider names.Available providers: 'AzureExecutionProvider, CPUExecutionProvider'\n",
      "  warnings.warn(\n"
     ]
    },
    {
     "name": "stdout",
     "output_type": "stream",
     "text": [
      "Applied providers: ['CPUExecutionProvider'], with options: {'CPUExecutionProvider': {}}\n"
     ]
    },
    {
     "name": "stderr",
     "output_type": "stream",
     "text": [
      "Model: arcface, Dataset: eval:   0%|          | 0/2487 [00:00<?, ?it/s]d:\\Projekt\\src\\model.py:45: UserWarning: Creating a tensor from a list of numpy.ndarrays is extremely slow. Please consider converting the list to a single numpy.ndarray with numpy.array() before converting to a tensor. (Triggered internally at C:\\actions-runner\\_work\\pytorch\\pytorch\\builder\\windows\\pytorch\\torch\\csrc\\utils\\tensor_new.cpp:281.)\n",
      "  return torch.tensor(emb)\n",
      "Model: arcface, Dataset: eval: 100%|██████████| 2487/2487 [54:09<00:00,  1.31s/it]  \n",
      "d:\\Projekt\\models\\AdaFace\\inference.py:17: FutureWarning: You are using `torch.load` with `weights_only=False` (the current default value), which uses the default pickle module implicitly. It is possible to construct malicious pickle data which will execute arbitrary code during unpickling (See https://github.com/pytorch/pytorch/blob/main/SECURITY.md#untrusted-models for more details). In a future release, the default value for `weights_only` will be flipped to `True`. This limits the functions that could be executed during unpickling. Arbitrary objects will no longer be allowed to be loaded via this mode unless they are explicitly allowlisted by the user via `torch.serialization.add_safe_globals`. We recommend you start setting `weights_only=True` for any use case where you don't have full control of the loaded file. Please open an issue on GitHub for any issues related to this experimental feature.\n",
      "  statedict = torch.load(adaface_models[architecture])['state_dict']\n",
      "Model: adaface, Dataset: test: 100%|██████████| 2476/2476 [47:29<00:00,  1.15s/it]  \n"
     ]
    },
    {
     "name": "stdout",
     "output_type": "stream",
     "text": [
      "Applied providers: ['CPUExecutionProvider'], with options: {'CPUExecutionProvider': {}}\n"
     ]
    },
    {
     "name": "stderr",
     "output_type": "stream",
     "text": [
      "Model: arcface, Dataset: test: 100%|██████████| 2476/2476 [56:25<00:00,  1.37s/it]  \n"
     ]
    }
   ],
   "source": [
    "for path in data_path:\n",
    "    for model_name in models:\n",
    "        dataset = path.parts[-1]\n",
    "        vids = list(path.rglob('*.mp4'))\n",
    "        data = {'video_id': [], 'person_id': [], 'embedding': [], 'frame_id': []}\n",
    "        model = load_model(model_name)\n",
    "        for video in tqdm(vids, desc=f'Model: {model_name}, Dataset: {dataset}'):\n",
    "            video_id = video.stem\n",
    "            person_id = video.parts[-2]\n",
    "            images = get_images_tensor(video)\n",
    "            if images is None or images.shape == torch.Size([0]):\n",
    "                data['video_id'].append(video_id)\n",
    "                data['person_id'].append(person_id)\n",
    "                data['embedding'].append(None)\n",
    "                data['frame_id'].append(None)\n",
    "                # print(f'No faces detected in {video}')\n",
    "                continue\n",
    "            embeddings = model(images.float().cuda())\n",
    "            if isinstance(embeddings, torch.Tensor):\n",
    "                embeddings = embeddings.detach().numpy()\n",
    "            for i, embedding in enumerate(embeddings):\n",
    "                embedding = embedding.squeeze()\n",
    "                data['video_id'].append(video_id)\n",
    "                data['person_id'].append(person_id)\n",
    "                data['embedding'].append(embedding)\n",
    "                data['frame_id'].append(int(i))\n",
    "        df = pd.DataFrame(data)\n",
    "        df.to_parquet(f'data/fusion_win/{model_name}_{dataset}.parquet')\n",
    "\n"
   ]
  },
  {
   "cell_type": "code",
   "execution_count": 7,
   "metadata": {},
   "outputs": [
    {
     "data": {
      "text/html": [
       "<div>\n",
       "<style scoped>\n",
       "    .dataframe tbody tr th:only-of-type {\n",
       "        vertical-align: middle;\n",
       "    }\n",
       "\n",
       "    .dataframe tbody tr th {\n",
       "        vertical-align: top;\n",
       "    }\n",
       "\n",
       "    .dataframe thead th {\n",
       "        text-align: right;\n",
       "    }\n",
       "</style>\n",
       "<table border=\"1\" class=\"dataframe\">\n",
       "  <thead>\n",
       "    <tr style=\"text-align: right;\">\n",
       "      <th></th>\n",
       "      <th>video_id</th>\n",
       "      <th>person_id</th>\n",
       "      <th>embedding</th>\n",
       "      <th>frame_id</th>\n",
       "    </tr>\n",
       "  </thead>\n",
       "  <tbody>\n",
       "    <tr>\n",
       "      <th>6938</th>\n",
       "      <td>94</td>\n",
       "      <td>id07802</td>\n",
       "      <td>[0.6601988, -0.45184615, -0.3119703, 0.4264250...</td>\n",
       "      <td>0.0</td>\n",
       "    </tr>\n",
       "    <tr>\n",
       "      <th>6939</th>\n",
       "      <td>94</td>\n",
       "      <td>id07802</td>\n",
       "      <td>[1.1444043, -1.0436709, -0.11216894, 1.1115494...</td>\n",
       "      <td>1.0</td>\n",
       "    </tr>\n",
       "    <tr>\n",
       "      <th>6940</th>\n",
       "      <td>94</td>\n",
       "      <td>id07802</td>\n",
       "      <td>[0.8238619, -0.2899797, -0.2755927, 0.46496618...</td>\n",
       "      <td>2.0</td>\n",
       "    </tr>\n",
       "    <tr>\n",
       "      <th>6941</th>\n",
       "      <td>94</td>\n",
       "      <td>id07802</td>\n",
       "      <td>[0.59772307, -1.4290673, 0.0387201, 0.6771873,...</td>\n",
       "      <td>3.0</td>\n",
       "    </tr>\n",
       "  </tbody>\n",
       "</table>\n",
       "</div>"
      ],
      "text/plain": [
       "     video_id person_id                                          embedding  \\\n",
       "6938       94   id07802  [0.6601988, -0.45184615, -0.3119703, 0.4264250...   \n",
       "6939       94   id07802  [1.1444043, -1.0436709, -0.11216894, 1.1115494...   \n",
       "6940       94   id07802  [0.8238619, -0.2899797, -0.2755927, 0.46496618...   \n",
       "6941       94   id07802  [0.59772307, -1.4290673, 0.0387201, 0.6771873,...   \n",
       "\n",
       "      frame_id  \n",
       "6938       0.0  \n",
       "6939       1.0  \n",
       "6940       2.0  \n",
       "6941       3.0  "
      ]
     },
     "execution_count": 7,
     "metadata": {},
     "output_type": "execute_result"
    }
   ],
   "source": [
    "df[(df['video_id'] == '94') & (df['person_id'] == 'id07802')]"
   ]
  },
  {
   "cell_type": "code",
   "execution_count": 8,
   "metadata": {},
   "outputs": [],
   "source": [
    "path = 'data/datasets/train/'\n",
    "data_path = [Path(path+str(i)) for i in range(13)]"
   ]
  },
  {
   "cell_type": "code",
   "execution_count": 9,
   "metadata": {},
   "outputs": [
    {
     "name": "stderr",
     "output_type": "stream",
     "text": [
      "d:\\Projekt\\models\\AdaFace\\inference.py:17: FutureWarning: You are using `torch.load` with `weights_only=False` (the current default value), which uses the default pickle module implicitly. It is possible to construct malicious pickle data which will execute arbitrary code during unpickling (See https://github.com/pytorch/pytorch/blob/main/SECURITY.md#untrusted-models for more details). In a future release, the default value for `weights_only` will be flipped to `True`. This limits the functions that could be executed during unpickling. Arbitrary objects will no longer be allowed to be loaded via this mode unless they are explicitly allowlisted by the user via `torch.serialization.add_safe_globals`. We recommend you start setting `weights_only=True` for any use case where you don't have full control of the loaded file. Please open an issue on GitHub for any issues related to this experimental feature.\n",
      "  statedict = torch.load(adaface_models[architecture])['state_dict']\n",
      "Model: adaface, Dataset: train: 100%|██████████| 4283/4283 [3:19:41<00:00,  2.80s/it]    \n",
      "d:\\Projekt\\venv\\Lib\\site-packages\\onnxruntime\\capi\\onnxruntime_inference_collection.py:69: UserWarning: Specified provider 'CUDAExecutionProvider' is not in available provider names.Available providers: 'AzureExecutionProvider, CPUExecutionProvider'\n",
      "  warnings.warn(\n"
     ]
    },
    {
     "name": "stdout",
     "output_type": "stream",
     "text": [
      "Applied providers: ['CPUExecutionProvider'], with options: {'CPUExecutionProvider': {}}\n"
     ]
    },
    {
     "name": "stderr",
     "output_type": "stream",
     "text": [
      "Model: arcface, Dataset: train: 100%|██████████| 4283/4283 [1:23:22<00:00,  1.17s/it]  \n",
      "Model: adaface, Dataset: train: 100%|██████████| 4500/4500 [1:15:52<00:00,  1.01s/it]\n"
     ]
    },
    {
     "name": "stdout",
     "output_type": "stream",
     "text": [
      "Applied providers: ['CPUExecutionProvider'], with options: {'CPUExecutionProvider': {}}\n"
     ]
    },
    {
     "name": "stderr",
     "output_type": "stream",
     "text": [
      "Model: arcface, Dataset: train: 100%|██████████| 4500/4500 [1:25:15<00:00,  1.14s/it]  \n",
      "Model: adaface, Dataset: train: 100%|██████████| 4273/4273 [1:22:58<00:00,  1.17s/it]  \n"
     ]
    },
    {
     "name": "stdout",
     "output_type": "stream",
     "text": [
      "Applied providers: ['CPUExecutionProvider'], with options: {'CPUExecutionProvider': {}}\n"
     ]
    },
    {
     "name": "stderr",
     "output_type": "stream",
     "text": [
      "Model: arcface, Dataset: train: 100%|██████████| 4273/4273 [1:33:47<00:00,  1.32s/it]  \n",
      "Model: adaface, Dataset: train: 100%|██████████| 4348/4348 [1:15:20<00:00,  1.04s/it]\n"
     ]
    },
    {
     "name": "stdout",
     "output_type": "stream",
     "text": [
      "Applied providers: ['CPUExecutionProvider'], with options: {'CPUExecutionProvider': {}}\n"
     ]
    },
    {
     "name": "stderr",
     "output_type": "stream",
     "text": [
      "Model: arcface, Dataset: train: 100%|██████████| 4348/4348 [1:24:44<00:00,  1.17s/it]  \n",
      "Model: adaface, Dataset: train: 100%|██████████| 4424/4424 [1:19:19<00:00,  1.08s/it]\n"
     ]
    },
    {
     "name": "stdout",
     "output_type": "stream",
     "text": [
      "Applied providers: ['CPUExecutionProvider'], with options: {'CPUExecutionProvider': {}}\n"
     ]
    },
    {
     "name": "stderr",
     "output_type": "stream",
     "text": [
      "Model: arcface, Dataset: train: 100%|██████████| 4424/4424 [1:27:14<00:00,  1.18s/it]  \n",
      "Model: adaface, Dataset: train: 100%|██████████| 3623/3623 [1:25:08<00:00,  1.41s/it]\n"
     ]
    },
    {
     "name": "stdout",
     "output_type": "stream",
     "text": [
      "Applied providers: ['CPUExecutionProvider'], with options: {'CPUExecutionProvider': {}}\n"
     ]
    },
    {
     "name": "stderr",
     "output_type": "stream",
     "text": [
      "Model: arcface, Dataset: train: 100%|██████████| 3623/3623 [1:37:03<00:00,  1.61s/it]  \n",
      "Model: adaface, Dataset: train: 100%|██████████| 4219/4219 [1:22:14<00:00,  1.17s/it]  \n"
     ]
    },
    {
     "name": "stdout",
     "output_type": "stream",
     "text": [
      "Applied providers: ['CPUExecutionProvider'], with options: {'CPUExecutionProvider': {}}\n"
     ]
    },
    {
     "name": "stderr",
     "output_type": "stream",
     "text": [
      "Model: arcface, Dataset: train: 100%|██████████| 4219/4219 [1:33:58<00:00,  1.34s/it]  \n",
      "Model: adaface, Dataset: train: 100%|██████████| 4230/4230 [1:24:40<00:00,  1.20s/it]  \n"
     ]
    },
    {
     "name": "stdout",
     "output_type": "stream",
     "text": [
      "Applied providers: ['CPUExecutionProvider'], with options: {'CPUExecutionProvider': {}}\n"
     ]
    },
    {
     "name": "stderr",
     "output_type": "stream",
     "text": [
      "Model: arcface, Dataset: train: 100%|██████████| 4230/4230 [1:35:40<00:00,  1.36s/it]  \n",
      "Model: adaface, Dataset: train: 100%|██████████| 4572/4572 [1:15:55<00:00,  1.00it/s]\n"
     ]
    },
    {
     "name": "stdout",
     "output_type": "stream",
     "text": [
      "Applied providers: ['CPUExecutionProvider'], with options: {'CPUExecutionProvider': {}}\n"
     ]
    },
    {
     "name": "stderr",
     "output_type": "stream",
     "text": [
      "Model: arcface, Dataset: train: 100%|██████████| 4572/4572 [1:25:07<00:00,  1.12s/it]  \n",
      "Model: adaface, Dataset: train: 100%|██████████| 3910/3910 [1:23:37<00:00,  1.28s/it]  \n"
     ]
    },
    {
     "name": "stdout",
     "output_type": "stream",
     "text": [
      "Applied providers: ['CPUExecutionProvider'], with options: {'CPUExecutionProvider': {}}\n"
     ]
    },
    {
     "name": "stderr",
     "output_type": "stream",
     "text": [
      "Model: arcface, Dataset: train: 100%|██████████| 3910/3910 [1:35:59<00:00,  1.47s/it]  \n",
      "Model: adaface, Dataset: train: 100%|██████████| 4116/4116 [1:16:07<00:00,  1.11s/it]\n"
     ]
    },
    {
     "name": "stdout",
     "output_type": "stream",
     "text": [
      "Applied providers: ['CPUExecutionProvider'], with options: {'CPUExecutionProvider': {}}\n"
     ]
    },
    {
     "name": "stderr",
     "output_type": "stream",
     "text": [
      "Model: arcface, Dataset: train: 100%|██████████| 4116/4116 [1:26:55<00:00,  1.27s/it]  \n",
      "Model: adaface, Dataset: train: 100%|██████████| 4423/4423 [1:24:31<00:00,  1.15s/it]  \n"
     ]
    },
    {
     "name": "stdout",
     "output_type": "stream",
     "text": [
      "Applied providers: ['CPUExecutionProvider'], with options: {'CPUExecutionProvider': {}}\n"
     ]
    },
    {
     "name": "stderr",
     "output_type": "stream",
     "text": [
      "Model: arcface, Dataset: train: 100%|██████████| 4423/4423 [1:34:17<00:00,  1.28s/it]  \n",
      "Model: adaface, Dataset: train: 100%|██████████| 766/766 [17:17<00:00,  1.35s/it]\n"
     ]
    },
    {
     "name": "stdout",
     "output_type": "stream",
     "text": [
      "Applied providers: ['CPUExecutionProvider'], with options: {'CPUExecutionProvider': {}}\n"
     ]
    },
    {
     "name": "stderr",
     "output_type": "stream",
     "text": [
      "Model: arcface, Dataset: train: 100%|██████████| 766/766 [19:35<00:00,  1.53s/it]\n"
     ]
    }
   ],
   "source": [
    "\n",
    "for path in data_path:\n",
    "    for model_name in models:\n",
    "        dataset = path.parts[-2]\n",
    "        split = path.parts[-1]\n",
    "        vids = list(path.rglob('*.mp4'))\n",
    "        data = {'video_id': [], 'person_id': [], 'embedding': [], 'frame_id': []}\n",
    "        model = load_model(model_name)\n",
    "        for video in tqdm(vids, desc=f'Model: {model_name}, Dataset: {dataset}'):\n",
    "            video_id = video.stem\n",
    "            person_id = video.parts[-2]\n",
    "            images = get_images_tensor(video)\n",
    "            if images is None or images.shape == torch.Size([0]):\n",
    "                data['video_id'].append(video_id)\n",
    "                data['person_id'].append(person_id)\n",
    "                data['embedding'].append(None)\n",
    "                data['frame_id'].append(None)\n",
    "                # print(f'No faces detected in {video}')\n",
    "                continue\n",
    "            embeddings = model(images.float().cuda())\n",
    "            if isinstance(embeddings, torch.Tensor):\n",
    "                embeddings = embeddings.detach().numpy()\n",
    "            for i, embedding in enumerate(embeddings):\n",
    "                embedding = embedding.squeeze()\n",
    "                data['video_id'].append(video_id)\n",
    "                data['person_id'].append(person_id)\n",
    "                data['embedding'].append(embedding)\n",
    "                data['frame_id'].append(int(i))\n",
    "        df = pd.DataFrame(data)\n",
    "        df.to_parquet(f'data/fusion_win/{model_name}_{dataset}_{split}.parquet')"
   ]
  }
 ],
 "metadata": {
  "kernelspec": {
   "display_name": "venv",
   "language": "python",
   "name": "python3"
  },
  "language_info": {
   "codemirror_mode": {
    "name": "ipython",
    "version": 3
   },
   "file_extension": ".py",
   "mimetype": "text/x-python",
   "name": "python",
   "nbconvert_exporter": "python",
   "pygments_lexer": "ipython3",
   "version": "3.12.0"
  }
 },
 "nbformat": 4,
 "nbformat_minor": 2
}
