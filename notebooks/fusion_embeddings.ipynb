{
 "cells": [
  {
   "cell_type": "code",
   "execution_count": 1,
   "metadata": {},
   "outputs": [],
   "source": [
    "import os\n",
    "import sys\n",
    "current_dir = os.getcwd()\n",
    "parent_dir = os.path.abspath(os.path.join(current_dir, '..'))\n",
    "sys.path.append(parent_dir)"
   ]
  },
  {
   "cell_type": "code",
   "execution_count": 2,
   "metadata": {},
   "outputs": [
    {
     "name": "stdout",
     "output_type": "stream",
     "text": [
      "d:\\Projekt\n"
     ]
    },
    {
     "name": "stderr",
     "output_type": "stream",
     "text": [
      "d:\\Projekt\\venv\\Lib\\site-packages\\IPython\\core\\magics\\osm.py:417: UserWarning: This is now an optional IPython functionality, setting dhist requires you to install the `pickleshare` library.\n",
      "  self.shell.db['dhist'] = compress_dhist(dhist)[-100:]\n"
     ]
    }
   ],
   "source": [
    "%cd .."
   ]
  },
  {
   "cell_type": "code",
   "execution_count": 12,
   "metadata": {},
   "outputs": [],
   "source": [
    "from src.prep_vid import get_images_tensor\n",
    "import pyarrow.parquet as pq\n",
    "from pathlib import Path\n",
    "from tqdm import tqdm\n",
    "from src.model import load_model\n",
    "import torch\n",
    "import pandas as pd"
   ]
  },
  {
   "cell_type": "code",
   "execution_count": null,
   "metadata": {},
   "outputs": [],
   "source": [
    "data_path = [Path('data/datasets/eval'), Path('data/datasets/test')]\n",
    "models = ['adaface', 'arcface', 'facenet']"
   ]
  },
  {
   "cell_type": "code",
   "execution_count": null,
   "metadata": {},
   "outputs": [
    {
     "name": "stderr",
     "output_type": "stream",
     "text": [
      "Model: adaface, Dataset: eval: 100%|██████████| 2487/2487 [52:26<00:00,  1.27s/it]  \n",
      "d:\\Projekt\\venv\\Lib\\site-packages\\onnxruntime\\capi\\onnxruntime_inference_collection.py:115: UserWarning: Specified provider 'CUDAExecutionProvider' is not in available provider names.Available providers: 'AzureExecutionProvider, CPUExecutionProvider'\n",
      "  warnings.warn(\n"
     ]
    },
    {
     "name": "stdout",
     "output_type": "stream",
     "text": [
      "Applied providers: ['CPUExecutionProvider'], with options: {'CPUExecutionProvider': {}}\n"
     ]
    },
    {
     "name": "stderr",
     "output_type": "stream",
     "text": [
      "Model: arcface, Dataset: eval: 100%|██████████| 2487/2487 [46:18<00:00,  1.12s/it]  \n",
      "d:\\Projekt\\venv\\Lib\\site-packages\\facenet_pytorch\\models\\inception_resnet_v1.py:329: FutureWarning: You are using `torch.load` with `weights_only=False` (the current default value), which uses the default pickle module implicitly. It is possible to construct malicious pickle data which will execute arbitrary code during unpickling (See https://github.com/pytorch/pytorch/blob/main/SECURITY.md#untrusted-models for more details). In a future release, the default value for `weights_only` will be flipped to `True`. This limits the functions that could be executed during unpickling. Arbitrary objects will no longer be allowed to be loaded via this mode unless they are explicitly allowlisted by the user via `torch.serialization.add_safe_globals`. We recommend you start setting `weights_only=True` for any use case where you don't have full control of the loaded file. Please open an issue on GitHub for any issues related to this experimental feature.\n",
      "  state_dict = torch.load(cached_file)\n",
      "Model: facenet, Dataset: eval: 100%|██████████| 2487/2487 [40:35<00:00,  1.02it/s]  \n",
      "Model: adaface, Dataset: test: 100%|██████████| 2476/2476 [42:29<00:00,  1.03s/it]  \n"
     ]
    },
    {
     "name": "stdout",
     "output_type": "stream",
     "text": [
      "Applied providers: ['CPUExecutionProvider'], with options: {'CPUExecutionProvider': {}}\n"
     ]
    },
    {
     "name": "stderr",
     "output_type": "stream",
     "text": [
      "Model: arcface, Dataset: test: 100%|██████████| 2476/2476 [45:32<00:00,  1.10s/it]  \n",
      "Model: facenet, Dataset: test: 100%|██████████| 2476/2476 [39:33<00:00,  1.04it/s]  \n"
     ]
    }
   ],
   "source": [
    "for path in data_path:\n",
    "    for model_name in models:\n",
    "        dataset = path.parts[-1]\n",
    "        vids = list(path.rglob('*.mp4'))\n",
    "        data = {'video_id': [], 'person_id': [], 'embedding': [], 'frame_id': []}\n",
    "        model = load_model(model_name)\n",
    "        for video in tqdm(vids, desc=f'Model: {model_name}, Dataset: {dataset}'):\n",
    "            video_id = video.stem\n",
    "            person_id = video.parts[-2]\n",
    "            images = get_images_tensor(video)\n",
    "            if images is None or images.shape == torch.Size([0]):\n",
    "                data['video_id'].append(video_id)\n",
    "                data['person_id'].append(person_id)\n",
    "                data['embedding'].append(None)\n",
    "                data['frame_id'].append(None)\n",
    "                # print(f'No faces detected in {video}')\n",
    "                continue\n",
    "            embeddings = model(images.float().cuda())\n",
    "            if isinstance(embeddings, torch.Tensor):\n",
    "                embeddings = embeddings.detach().numpy()\n",
    "            for i, embedding in enumerate(embeddings):\n",
    "                embedding = embedding.squeeze()\n",
    "                data['video_id'].append(video_id)\n",
    "                data['person_id'].append(person_id)\n",
    "                data['embedding'].append(embedding)\n",
    "                data['frame_id'].append(int(i))\n",
    "        df = pd.DataFrame(data)\n",
    "        df.to_parquet(f'data/fusion_win/{model_name}_{dataset}.parquet')\n",
    "\n"
   ]
  },
  {
   "cell_type": "code",
   "execution_count": 68,
   "metadata": {},
   "outputs": [
    {
     "data": {
      "text/html": [
       "<div>\n",
       "<style scoped>\n",
       "    .dataframe tbody tr th:only-of-type {\n",
       "        vertical-align: middle;\n",
       "    }\n",
       "\n",
       "    .dataframe tbody tr th {\n",
       "        vertical-align: top;\n",
       "    }\n",
       "\n",
       "    .dataframe thead th {\n",
       "        text-align: right;\n",
       "    }\n",
       "</style>\n",
       "<table border=\"1\" class=\"dataframe\">\n",
       "  <thead>\n",
       "    <tr style=\"text-align: right;\">\n",
       "      <th></th>\n",
       "      <th>video_id</th>\n",
       "      <th>person_id</th>\n",
       "      <th>embedding</th>\n",
       "      <th>frame_id</th>\n",
       "    </tr>\n",
       "  </thead>\n",
       "  <tbody>\n",
       "    <tr>\n",
       "      <th>6342</th>\n",
       "      <td>94</td>\n",
       "      <td>id07802</td>\n",
       "      <td>[0.062200576, -0.028601408, 0.036356226, 0.006...</td>\n",
       "      <td>0.0</td>\n",
       "    </tr>\n",
       "    <tr>\n",
       "      <th>6343</th>\n",
       "      <td>94</td>\n",
       "      <td>id07802</td>\n",
       "      <td>[0.05768734, -0.035108306, 0.036041643, -0.006...</td>\n",
       "      <td>1.0</td>\n",
       "    </tr>\n",
       "    <tr>\n",
       "      <th>6344</th>\n",
       "      <td>94</td>\n",
       "      <td>id07802</td>\n",
       "      <td>[0.06159673, -0.027372284, 0.046508435, -0.007...</td>\n",
       "      <td>2.0</td>\n",
       "    </tr>\n",
       "    <tr>\n",
       "      <th>6345</th>\n",
       "      <td>94</td>\n",
       "      <td>id07802</td>\n",
       "      <td>[0.061609577, -0.052368198, 0.038780663, -0.00...</td>\n",
       "      <td>3.0</td>\n",
       "    </tr>\n",
       "  </tbody>\n",
       "</table>\n",
       "</div>"
      ],
      "text/plain": [
       "     video_id person_id                                          embedding  \\\n",
       "6342       94   id07802  [0.062200576, -0.028601408, 0.036356226, 0.006...   \n",
       "6343       94   id07802  [0.05768734, -0.035108306, 0.036041643, -0.006...   \n",
       "6344       94   id07802  [0.06159673, -0.027372284, 0.046508435, -0.007...   \n",
       "6345       94   id07802  [0.061609577, -0.052368198, 0.038780663, -0.00...   \n",
       "\n",
       "      frame_id  \n",
       "6342       0.0  \n",
       "6343       1.0  \n",
       "6344       2.0  \n",
       "6345       3.0  "
      ]
     },
     "execution_count": 68,
     "metadata": {},
     "output_type": "execute_result"
    }
   ],
   "source": [
    "df[(df['video_id'] == '94') & (df['person_id'] == 'id07802')]"
   ]
  },
  {
   "cell_type": "code",
   "execution_count": 71,
   "metadata": {},
   "outputs": [],
   "source": [
    "path = 'data/datasets/train/'\n",
    "data_path = [Path(path+str(i)) for i in range(10)]"
   ]
  },
  {
   "cell_type": "code",
   "execution_count": 70,
   "metadata": {},
   "outputs": [
    {
     "name": "stderr",
     "output_type": "stream",
     "text": [
      "Model: adaface, Dataset: train:   1%|▏         | 73/5170 [01:52<2:10:35,  1.54s/it]\n"
     ]
    },
    {
     "ename": "RuntimeError",
     "evalue": "Could not create tensor from given input list",
     "output_type": "error",
     "traceback": [
      "\u001b[1;31m---------------------------------------------------------------------------\u001b[0m",
      "\u001b[1;31mKeyboardInterrupt\u001b[0m                         Traceback (most recent call last)",
      "File \u001b[1;32md:\\Projekt\\venv\\Lib\\site-packages\\torch\\_tensor.py:1151\u001b[0m, in \u001b[0;36mTensor.__array__\u001b[1;34m(self, dtype)\u001b[0m\n\u001b[0;32m   1150\u001b[0m \u001b[38;5;28;01melse\u001b[39;00m:\n\u001b[1;32m-> 1151\u001b[0m     \u001b[38;5;28;01mreturn\u001b[39;00m \u001b[38;5;28;43mself\u001b[39;49m\u001b[38;5;241;43m.\u001b[39;49m\u001b[43mnumpy\u001b[49m\u001b[43m(\u001b[49m\u001b[43m)\u001b[49m\u001b[38;5;241;43m.\u001b[39;49m\u001b[43mastype\u001b[49m\u001b[43m(\u001b[49m\u001b[43mdtype\u001b[49m\u001b[43m,\u001b[49m\u001b[43m \u001b[49m\u001b[43mcopy\u001b[49m\u001b[38;5;241;43m=\u001b[39;49m\u001b[38;5;28;43;01mFalse\u001b[39;49;00m\u001b[43m)\u001b[49m\n",
      "\u001b[1;31mKeyboardInterrupt\u001b[0m: ",
      "\nThe above exception was the direct cause of the following exception:\n",
      "\u001b[1;31mRuntimeError\u001b[0m                              Traceback (most recent call last)",
      "Cell \u001b[1;32mIn[70], line 11\u001b[0m\n\u001b[0;32m      9\u001b[0m video_id \u001b[38;5;241m=\u001b[39m video\u001b[38;5;241m.\u001b[39mstem\n\u001b[0;32m     10\u001b[0m person_id \u001b[38;5;241m=\u001b[39m video\u001b[38;5;241m.\u001b[39mparts[\u001b[38;5;241m-\u001b[39m\u001b[38;5;241m2\u001b[39m]\n\u001b[1;32m---> 11\u001b[0m images \u001b[38;5;241m=\u001b[39m \u001b[43mget_images_tensor\u001b[49m\u001b[43m(\u001b[49m\u001b[43mvideo\u001b[49m\u001b[43m)\u001b[49m\n\u001b[0;32m     12\u001b[0m \u001b[38;5;28;01mif\u001b[39;00m images \u001b[38;5;129;01mis\u001b[39;00m \u001b[38;5;28;01mNone\u001b[39;00m \u001b[38;5;129;01mor\u001b[39;00m images\u001b[38;5;241m.\u001b[39mshape \u001b[38;5;241m==\u001b[39m torch\u001b[38;5;241m.\u001b[39mSize([\u001b[38;5;241m0\u001b[39m]):\n\u001b[0;32m     13\u001b[0m     data[\u001b[38;5;124m'\u001b[39m\u001b[38;5;124mvideo_id\u001b[39m\u001b[38;5;124m'\u001b[39m]\u001b[38;5;241m.\u001b[39mappend(video_id)\n",
      "File \u001b[1;32md:\\Projekt\\src\\prep_vid.py:240\u001b[0m, in \u001b[0;36mget_images_tensor\u001b[1;34m(video, length, step, num_frames, crop)\u001b[0m\n\u001b[0;32m    238\u001b[0m \u001b[38;5;28;01mif\u001b[39;00m  \u001b[38;5;28misinstance\u001b[39m(video, (\u001b[38;5;28mstr\u001b[39m,Path)):\n\u001b[0;32m    239\u001b[0m     video \u001b[38;5;241m=\u001b[39m cv2\u001b[38;5;241m.\u001b[39mVideoCapture(\u001b[38;5;28mstr\u001b[39m(video))\n\u001b[1;32m--> 240\u001b[0m images \u001b[38;5;241m=\u001b[39m \u001b[43mprocess_video\u001b[49m\u001b[43m(\u001b[49m\u001b[43mvideo\u001b[49m\u001b[43m,\u001b[49m\u001b[43m \u001b[49m\u001b[43mlength\u001b[49m\u001b[43m,\u001b[49m\u001b[43m \u001b[49m\u001b[43mstep\u001b[49m\u001b[43m,\u001b[49m\u001b[43m \u001b[49m\u001b[43mnum_frames\u001b[49m\u001b[43m,\u001b[49m\u001b[43m \u001b[49m\u001b[43mcrop\u001b[49m\u001b[43m)\u001b[49m\n\u001b[0;32m    241\u001b[0m \u001b[38;5;28;01mreturn\u001b[39;00m images\n",
      "File \u001b[1;32md:\\Projekt\\src\\prep_vid.py:222\u001b[0m, in \u001b[0;36mprocess_video\u001b[1;34m(video, length, step, num_frames, crop)\u001b[0m\n\u001b[0;32m    220\u001b[0m end_frame \u001b[38;5;241m=\u001b[39m start_frame \u001b[38;5;241m+\u001b[39m frames_per_segment\n\u001b[0;32m    221\u001b[0m segment \u001b[38;5;241m=\u001b[39m all_frames[start_frame:end_frame]\n\u001b[1;32m--> 222\u001b[0m frontal_face \u001b[38;5;241m=\u001b[39m \u001b[43mselect_frontal_frames\u001b[49m\u001b[43m(\u001b[49m\u001b[43msegment\u001b[49m\u001b[43m,\u001b[49m\u001b[43m \u001b[49m\u001b[43mnum_frames\u001b[49m\u001b[43m)\u001b[49m\n\u001b[0;32m    223\u001b[0m \u001b[38;5;28;01mif\u001b[39;00m \u001b[38;5;129;01mnot\u001b[39;00m frontal_face:\n\u001b[0;32m    224\u001b[0m     \u001b[38;5;28;01mreturn\u001b[39;00m \u001b[38;5;28;01mNone\u001b[39;00m\n",
      "File \u001b[1;32md:\\Projekt\\src\\prep_vid.py:80\u001b[0m, in \u001b[0;36mselect_frontal_frames\u001b[1;34m(frames, sample)\u001b[0m\n\u001b[0;32m     78\u001b[0m frontal_frames \u001b[38;5;241m=\u001b[39m []\n\u001b[0;32m     79\u001b[0m \u001b[38;5;28;01mfor\u001b[39;00m frame \u001b[38;5;129;01min\u001b[39;00m frames:\n\u001b[1;32m---> 80\u001b[0m     \u001b[38;5;28;01mif\u001b[39;00m \u001b[43mcheck_frontal_face\u001b[49m\u001b[43m(\u001b[49m\u001b[43mframe\u001b[49m\u001b[43m)\u001b[49m:\n\u001b[0;32m     81\u001b[0m         frontal_frames\u001b[38;5;241m.\u001b[39mappend(frame)\n\u001b[0;32m     82\u001b[0m \u001b[38;5;28;01mif\u001b[39;00m \u001b[38;5;28mlen\u001b[39m(frontal_frames) \u001b[38;5;241m<\u001b[39m sample:\n",
      "File \u001b[1;32md:\\Projekt\\src\\prep_vid.py:73\u001b[0m, in \u001b[0;36mcheck_frontal_face\u001b[1;34m(image)\u001b[0m\n\u001b[0;32m     72\u001b[0m \u001b[38;5;28;01mdef\u001b[39;00m \u001b[38;5;21mcheck_frontal_face\u001b[39m(image):\n\u001b[1;32m---> 73\u001b[0m     yaw, pitch, roll \u001b[38;5;241m=\u001b[39m \u001b[43mHEAD_POSE\u001b[49m\u001b[43m(\u001b[49m\u001b[43mimage\u001b[49m\u001b[43m)\u001b[49m\n\u001b[0;32m     74\u001b[0m     \u001b[38;5;28;01mreturn\u001b[39;00m \u001b[38;5;28mabs\u001b[39m(yaw) \u001b[38;5;241m<\u001b[39m \u001b[38;5;241m30\u001b[39m \u001b[38;5;129;01mand\u001b[39;00m \u001b[38;5;28mabs\u001b[39m(pitch) \u001b[38;5;241m<\u001b[39m \u001b[38;5;241m30\u001b[39m \u001b[38;5;129;01mand\u001b[39;00m \u001b[38;5;28mabs\u001b[39m(roll) \u001b[38;5;241m<\u001b[39m \u001b[38;5;241m30\u001b[39m\n",
      "File \u001b[1;32md:\\Projekt\\src\\prep_vid.py:28\u001b[0m, in \u001b[0;36mHeadPose.__call__\u001b[1;34m(self, image)\u001b[0m\n\u001b[0;32m     25\u001b[0m \u001b[38;5;28;01mdef\u001b[39;00m \u001b[38;5;21m__call__\u001b[39m(\u001b[38;5;28mself\u001b[39m, image):\n\u001b[0;32m     26\u001b[0m     image \u001b[38;5;241m=\u001b[39m [\u001b[38;5;28mself\u001b[39m\u001b[38;5;241m.\u001b[39mtransform(image)]\n\u001b[0;32m     27\u001b[0m     yaw_pitch_roll_results \u001b[38;5;241m=\u001b[39m [\n\u001b[1;32m---> 28\u001b[0m         \u001b[43mmodel\u001b[49m\u001b[38;5;241;43m.\u001b[39;49m\u001b[43mrun\u001b[49m\u001b[43m(\u001b[49m\u001b[43m[\u001b[49m\u001b[38;5;124;43m\"\u001b[39;49m\u001b[38;5;124;43moutput\u001b[39;49m\u001b[38;5;124;43m\"\u001b[39;49m\u001b[43m]\u001b[49m\u001b[43m,\u001b[49m\u001b[43m \u001b[49m\u001b[43m{\u001b[49m\u001b[38;5;124;43m\"\u001b[39;49m\u001b[38;5;124;43minput\u001b[39;49m\u001b[38;5;124;43m\"\u001b[39;49m\u001b[43m:\u001b[49m\u001b[43m \u001b[49m\u001b[43mimage\u001b[49m\u001b[43m}\u001b[49m\u001b[43m)\u001b[49m[\u001b[38;5;241m0\u001b[39m] \u001b[38;5;28;01mfor\u001b[39;00m model \u001b[38;5;129;01min\u001b[39;00m \u001b[38;5;28mself\u001b[39m\u001b[38;5;241m.\u001b[39mmodels\n\u001b[0;32m     29\u001b[0m     ]\n\u001b[0;32m     30\u001b[0m     yaw, pitch, roll \u001b[38;5;241m=\u001b[39m np\u001b[38;5;241m.\u001b[39mmean(np\u001b[38;5;241m.\u001b[39mvstack(yaw_pitch_roll_results), axis\u001b[38;5;241m=\u001b[39m\u001b[38;5;241m0\u001b[39m)\n\u001b[0;32m     31\u001b[0m     \u001b[38;5;28;01mreturn\u001b[39;00m yaw, pitch, roll\n",
      "File \u001b[1;32md:\\Projekt\\venv\\Lib\\site-packages\\onnxruntime\\capi\\onnxruntime_inference_collection.py:266\u001b[0m, in \u001b[0;36mSession.run\u001b[1;34m(self, output_names, input_feed, run_options)\u001b[0m\n\u001b[0;32m    264\u001b[0m     output_names \u001b[38;5;241m=\u001b[39m [output\u001b[38;5;241m.\u001b[39mname \u001b[38;5;28;01mfor\u001b[39;00m output \u001b[38;5;129;01min\u001b[39;00m \u001b[38;5;28mself\u001b[39m\u001b[38;5;241m.\u001b[39m_outputs_meta]\n\u001b[0;32m    265\u001b[0m \u001b[38;5;28;01mtry\u001b[39;00m:\n\u001b[1;32m--> 266\u001b[0m     \u001b[38;5;28;01mreturn\u001b[39;00m \u001b[38;5;28;43mself\u001b[39;49m\u001b[38;5;241;43m.\u001b[39;49m\u001b[43m_sess\u001b[49m\u001b[38;5;241;43m.\u001b[39;49m\u001b[43mrun\u001b[49m\u001b[43m(\u001b[49m\u001b[43moutput_names\u001b[49m\u001b[43m,\u001b[49m\u001b[43m \u001b[49m\u001b[43minput_feed\u001b[49m\u001b[43m,\u001b[49m\u001b[43m \u001b[49m\u001b[43mrun_options\u001b[49m\u001b[43m)\u001b[49m\n\u001b[0;32m    267\u001b[0m \u001b[38;5;28;01mexcept\u001b[39;00m C\u001b[38;5;241m.\u001b[39mEPFail \u001b[38;5;28;01mas\u001b[39;00m err:\n\u001b[0;32m    268\u001b[0m     \u001b[38;5;28;01mif\u001b[39;00m \u001b[38;5;28mself\u001b[39m\u001b[38;5;241m.\u001b[39m_enable_fallback:\n",
      "\u001b[1;31mRuntimeError\u001b[0m: Could not create tensor from given input list"
     ]
    }
   ],
   "source": [
    "for path in data_path:\n",
    "    for model_name in models:\n",
    "        dataset = path.parts[-2]\n",
    "        split = path.parts[-1]\n",
    "        vids = list(path.rglob('*.mp4'))\n",
    "        data = {'video_id': [], 'person_id': [], 'embedding': [], 'frame_id': []}\n",
    "        model = load_model(model_name)\n",
    "        for video in tqdm(vids, desc=f'Model: {model_name}, Dataset: {dataset}'):\n",
    "            video_id = video.stem\n",
    "            person_id = video.parts[-2]\n",
    "            images = get_images_tensor(video)\n",
    "            if images is None or images.shape == torch.Size([0]):\n",
    "                data['video_id'].append(video_id)\n",
    "                data['person_id'].append(person_id)\n",
    "                data['embedding'].append(None)\n",
    "                data['frame_id'].append(None)\n",
    "                # print(f'No faces detected in {video}')\n",
    "                continue\n",
    "            embeddings = model(images.float().cuda())\n",
    "            if isinstance(embeddings, torch.Tensor):\n",
    "                embeddings = embeddings.detach().numpy()\n",
    "            for i, embedding in enumerate(embeddings):\n",
    "                embedding = embedding.squeeze()\n",
    "                data['video_id'].append(video_id)\n",
    "                data['person_id'].append(person_id)\n",
    "                data['embedding'].append(embedding)\n",
    "                data['frame_id'].append(int(i))\n",
    "        df = pd.DataFrame(data)\n",
    "        df.to_parquet(f'data/fusion_win/{model_name}_{dataset}_{split}.parquet')"
   ]
  }
 ],
 "metadata": {
  "kernelspec": {
   "display_name": "venv",
   "language": "python",
   "name": "python3"
  },
  "language_info": {
   "codemirror_mode": {
    "name": "ipython",
    "version": 3
   },
   "file_extension": ".py",
   "mimetype": "text/x-python",
   "name": "python",
   "nbconvert_exporter": "python",
   "pygments_lexer": "ipython3",
   "version": "3.12.0"
  }
 },
 "nbformat": 4,
 "nbformat_minor": 2
}
